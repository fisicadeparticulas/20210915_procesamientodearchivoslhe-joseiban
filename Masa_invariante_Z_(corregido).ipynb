{
  "nbformat": 4,
  "nbformat_minor": 0,
  "metadata": {
    "colab": {
      "name": "Masa invariante Z (corregido).ipynb",
      "provenance": [],
      "mount_file_id": "15MViKPzV01Wo23_YFwAH9gLD_00GhZRc",
      "authorship_tag": "ABX9TyOsK/a0agsY2wdCcK+vL+lu",
      "include_colab_link": true
    },
    "kernelspec": {
      "name": "python3",
      "display_name": "Python 3"
    },
    "language_info": {
      "name": "python"
    }
  },
  "cells": [
    {
      "cell_type": "markdown",
      "metadata": {
        "id": "view-in-github",
        "colab_type": "text"
      },
      "source": [
        "<a href=\"https://colab.research.google.com/github/fisicadeparticulas/20210915_procesamientodearchivoslhe-joseiban/blob/main/Masa_invariante_Z_(corregido).ipynb\" target=\"_parent\"><img src=\"https://colab.research.google.com/assets/colab-badge.svg\" alt=\"Open In Colab\"/></a>"
      ]
    },
    {
      "cell_type": "markdown",
      "metadata": {
        "id": "P6pW4X18I8Wu"
      },
      "source": [
        "# **MASA INVARIANTE DEL BOSÓN Z**"
      ]
    },
    {
      "cell_type": "markdown",
      "metadata": {
        "id": "V-svETebJWwF"
      },
      "source": [
        "## **Cargamos nuestro archivo de eventos:**"
      ]
    },
    {
      "cell_type": "markdown",
      "metadata": {
        "id": "r9abfmn4O2Cp"
      },
      "source": [
        "Al archivo \"Eventos_pxpypzE.csv\" se le hace una modificación manual, se coloca nombre a las columnas para evitar que la fila 0 sea leída por el código como este."
      ]
    },
    {
      "cell_type": "code",
      "metadata": {
        "colab": {
          "base_uri": "https://localhost:8080/",
          "height": 204
        },
        "id": "oTgXZHhs5iui",
        "outputId": "f765c0f8-463d-4921-e2e6-ae7e2fc5098e"
      },
      "source": [
        "import pandas as pd\n",
        "import numpy as np\n",
        "import matplotlib.pyplot as plt\n",
        "from scipy.stats import norm\n",
        "#by:joseiban\n",
        "events=pd.read_csv('/content/drive/MyDrive/Masa invariante Z/Eventos_pxpypzE.csv')\n",
        "events.head()"
      ],
      "execution_count": null,
      "outputs": [
        {
          "output_type": "execute_result",
          "data": {
            "text/html": [
              "<div>\n",
              "<style scoped>\n",
              "    .dataframe tbody tr th:only-of-type {\n",
              "        vertical-align: middle;\n",
              "    }\n",
              "\n",
              "    .dataframe tbody tr th {\n",
              "        vertical-align: top;\n",
              "    }\n",
              "\n",
              "    .dataframe thead th {\n",
              "        text-align: right;\n",
              "    }\n",
              "</style>\n",
              "<table border=\"1\" class=\"dataframe\">\n",
              "  <thead>\n",
              "    <tr style=\"text-align: right;\">\n",
              "      <th></th>\n",
              "      <th>px</th>\n",
              "      <th>py</th>\n",
              "      <th>pz</th>\n",
              "      <th>E</th>\n",
              "    </tr>\n",
              "  </thead>\n",
              "  <tbody>\n",
              "    <tr>\n",
              "      <th>0</th>\n",
              "      <td>-25.4</td>\n",
              "      <td>35.0</td>\n",
              "      <td>86.3</td>\n",
              "      <td>96.6</td>\n",
              "    </tr>\n",
              "    <tr>\n",
              "      <th>1</th>\n",
              "      <td>25.4</td>\n",
              "      <td>-35.0</td>\n",
              "      <td>39.9</td>\n",
              "      <td>58.8</td>\n",
              "    </tr>\n",
              "    <tr>\n",
              "      <th>2</th>\n",
              "      <td>15.6</td>\n",
              "      <td>-33.5</td>\n",
              "      <td>15.3</td>\n",
              "      <td>40.0</td>\n",
              "    </tr>\n",
              "    <tr>\n",
              "      <th>3</th>\n",
              "      <td>-15.6</td>\n",
              "      <td>33.5</td>\n",
              "      <td>102.0</td>\n",
              "      <td>109.0</td>\n",
              "    </tr>\n",
              "    <tr>\n",
              "      <th>4</th>\n",
              "      <td>-12.7</td>\n",
              "      <td>16.0</td>\n",
              "      <td>112.0</td>\n",
              "      <td>114.0</td>\n",
              "    </tr>\n",
              "  </tbody>\n",
              "</table>\n",
              "</div>"
            ],
            "text/plain": [
              "     px    py     pz      E\n",
              "0 -25.4  35.0   86.3   96.6\n",
              "1  25.4 -35.0   39.9   58.8\n",
              "2  15.6 -33.5   15.3   40.0\n",
              "3 -15.6  33.5  102.0  109.0\n",
              "4 -12.7  16.0  112.0  114.0"
            ]
          },
          "metadata": {},
          "execution_count": 1
        }
      ]
    },
    {
      "cell_type": "markdown",
      "metadata": {
        "id": "az1YGD1HQXOp"
      },
      "source": [
        "## **Emparejar los cuadrivectores muón-antimuón:**"
      ]
    },
    {
      "cell_type": "markdown",
      "metadata": {
        "id": "YPWz_UGkR25B"
      },
      "source": [
        "Se generan las ecuaciones de emparejamiento mediante Minitab, las cuales son introducidas al archivo y este nos genera los cuadrivectores separados. Estos se extrapolan a un archivo nuevo llamado \"2 Muon.csv\" (véanse los archivos extra en https://github.com/fisicadeparticulas/20210915_procesamientodearchivoslhe-joseiban)."
      ]
    },
    {
      "cell_type": "code",
      "metadata": {
        "colab": {
          "base_uri": "https://localhost:8080/",
          "height": 204
        },
        "id": "h5t_UFTymaW7",
        "outputId": "0b02711b-527d-4f39-8c44-5b3dcd6aef0d"
      },
      "source": [
        "import pandas as pd\n",
        "import numpy as np\n",
        "import matplotlib.pyplot as plt\n",
        "from scipy.stats import norm\n",
        "#by:joseiban\n",
        "events=pd.read_csv('/content/drive/MyDrive/Masa invariante Z/2 Muon.csv')\n",
        "events.head()"
      ],
      "execution_count": 11,
      "outputs": [
        {
          "output_type": "execute_result",
          "data": {
            "text/html": [
              "<div>\n",
              "<style scoped>\n",
              "    .dataframe tbody tr th:only-of-type {\n",
              "        vertical-align: middle;\n",
              "    }\n",
              "\n",
              "    .dataframe tbody tr th {\n",
              "        vertical-align: top;\n",
              "    }\n",
              "\n",
              "    .dataframe thead th {\n",
              "        text-align: right;\n",
              "    }\n",
              "</style>\n",
              "<table border=\"1\" class=\"dataframe\">\n",
              "  <thead>\n",
              "    <tr style=\"text-align: right;\">\n",
              "      <th></th>\n",
              "      <th>px1</th>\n",
              "      <th>py1</th>\n",
              "      <th>pz1</th>\n",
              "      <th>E1</th>\n",
              "      <th>px2</th>\n",
              "      <th>py2</th>\n",
              "      <th>pz2</th>\n",
              "      <th>E2</th>\n",
              "    </tr>\n",
              "  </thead>\n",
              "  <tbody>\n",
              "    <tr>\n",
              "      <th>0</th>\n",
              "      <td>-25.4</td>\n",
              "      <td>35.00</td>\n",
              "      <td>86.3</td>\n",
              "      <td>96.6</td>\n",
              "      <td>25.4</td>\n",
              "      <td>-35.00</td>\n",
              "      <td>39.9</td>\n",
              "      <td>58.8</td>\n",
              "    </tr>\n",
              "    <tr>\n",
              "      <th>1</th>\n",
              "      <td>15.6</td>\n",
              "      <td>-33.50</td>\n",
              "      <td>15.3</td>\n",
              "      <td>40.0</td>\n",
              "      <td>-15.6</td>\n",
              "      <td>33.50</td>\n",
              "      <td>102.0</td>\n",
              "      <td>109.0</td>\n",
              "    </tr>\n",
              "    <tr>\n",
              "      <th>2</th>\n",
              "      <td>-12.7</td>\n",
              "      <td>16.00</td>\n",
              "      <td>112.0</td>\n",
              "      <td>114.0</td>\n",
              "      <td>12.7</td>\n",
              "      <td>-16.00</td>\n",
              "      <td>-11.0</td>\n",
              "      <td>23.2</td>\n",
              "    </tr>\n",
              "    <tr>\n",
              "      <th>3</th>\n",
              "      <td>13.2</td>\n",
              "      <td>42.00</td>\n",
              "      <td>-19.2</td>\n",
              "      <td>48.1</td>\n",
              "      <td>-13.2</td>\n",
              "      <td>-42.00</td>\n",
              "      <td>-42.4</td>\n",
              "      <td>61.1</td>\n",
              "    </tr>\n",
              "    <tr>\n",
              "      <th>4</th>\n",
              "      <td>-37.0</td>\n",
              "      <td>-4.41</td>\n",
              "      <td>77.4</td>\n",
              "      <td>85.9</td>\n",
              "      <td>37.0</td>\n",
              "      <td>4.41</td>\n",
              "      <td>156.0</td>\n",
              "      <td>161.0</td>\n",
              "    </tr>\n",
              "  </tbody>\n",
              "</table>\n",
              "</div>"
            ],
            "text/plain": [
              "    px1    py1    pz1     E1   px2    py2    pz2     E2\n",
              "0 -25.4  35.00   86.3   96.6  25.4 -35.00   39.9   58.8\n",
              "1  15.6 -33.50   15.3   40.0 -15.6  33.50  102.0  109.0\n",
              "2 -12.7  16.00  112.0  114.0  12.7 -16.00  -11.0   23.2\n",
              "3  13.2  42.00  -19.2   48.1 -13.2 -42.00  -42.4   61.1\n",
              "4 -37.0  -4.41   77.4   85.9  37.0   4.41  156.0  161.0"
            ]
          },
          "metadata": {},
          "execution_count": 11
        }
      ]
    },
    {
      "cell_type": "markdown",
      "metadata": {
        "id": "qKpz38KOjSJG"
      },
      "source": [
        "## **Gráfica de la masa invariante de la suma de los cuadrivetores de dos muones:**"
      ]
    },
    {
      "cell_type": "markdown",
      "metadata": {
        "id": "S4rElWPO18JR"
      },
      "source": [
        "Se generan la gráfica y el histograma a partir de nuestra fórmula para la masa invariante en una colisión de dos partículas (véase el archivo \"Masa Invariante del Bosón Z.pdf\")"
      ]
    },
    {
      "cell_type": "markdown",
      "metadata": {
        "id": "fUz4Wgqi9Pdj"
      },
      "source": [
        "### **Gráfica de las masas sumadas de los muones:**"
      ]
    },
    {
      "cell_type": "code",
      "metadata": {
        "colab": {
          "base_uri": "https://localhost:8080/",
          "height": 282
        },
        "id": "zmNtj0FOjioi",
        "outputId": "8ae7851e-562c-4c0b-e2af-4eaff6a4dd30"
      },
      "source": [
        "import pandas as pd\n",
        "import numpy as np\n",
        "import matplotlib.pyplot as plt\n",
        "from scipy.stats import norm\n",
        "#by:joseiban\n",
        "data=np.genfromtxt(\"/content/drive/MyDrive/Masa invariante Z/2 Muon.csv\", delimiter=\",\" , names=[\"px1\",\"py1\",\"pz1\",\"E1\",\"px2\",\"py2\",\"pz2\",\"E2\"])\n",
        "plt.plot(np.sqrt((data['E1']+data['E2'])**2-((data['px1']+data['px2'])**2+(data['py1']+data['py2'])**2+(data['pz1']+data['pz2'])**2)))"
      ],
      "execution_count": 10,
      "outputs": [
        {
          "output_type": "execute_result",
          "data": {
            "text/plain": [
              "[<matplotlib.lines.Line2D at 0x7f2675ff4050>]"
            ]
          },
          "metadata": {},
          "execution_count": 10
        },
        {
          "output_type": "display_data",
          "data": {
            "image/png": "[encoded data removed]",
            "text/plain": [
              "<Figure size 432x288 with 1 Axes>"
            ]
          },
          "metadata": {
            "needs_background": "light"
          }
        }
      ]
    },
    {
      "cell_type": "markdown",
      "metadata": {
        "id": "AHGIzW0cLobA"
      },
      "source": [
        "### **Histograma de las masas sumadas de los muones:**"
      ]
    },
    {
      "cell_type": "code",
      "metadata": {
        "colab": {
          "base_uri": "https://localhost:8080/",
          "height": 316
        },
        "id": "DSZSzghA9b7T",
        "outputId": "c8473da2-e892-47ae-e8c6-f182c775e87b"
      },
      "source": [
        "import pandas as pd\n",
        "import numpy as np\n",
        "import matplotlib.pyplot as plt\n",
        "from scipy.stats import norm\n",
        "#by:joseiban\n",
        "data=np.genfromtxt(\"/content/drive/MyDrive/Masa invariante Z/2 Muon.csv\", delimiter=\",\" , names=[\"px1\",\"py1\",\"pz1\",\"E1\",\"px2\",\"py2\",\"pz2\",\"E2\"])\n",
        "plt.hist(np.sqrt((data['E1']+data['E2'])**2-((data['px1']+data['px2'])**2+(data['py1']+data['py2'])**2+(data['pz1']+data['pz2'])**2)),bins=[60,70,80,90,100,110,120,130]) "
      ],
      "execution_count": null,
      "outputs": [
        {
          "output_type": "execute_result",
          "data": {
            "text/plain": [
              "(array([ 233.,  478., 2999., 5635.,  331.,   70.,   25.]),\n",
              " array([ 60,  70,  80,  90, 100, 110, 120, 130]),\n",
              " <a list of 7 Patch objects>)"
            ]
          },
          "metadata": {},
          "execution_count": 3
        },
        {
          "output_type": "display_data",
          "data": {
            "image/png": "[encoded data removed]",
            "text/plain": [
              "<Figure size 432x288 with 1 Axes>"
            ]
          },
          "metadata": {
            "needs_background": "light"
          }
        }
      ]
    },
    {
      "cell_type": "markdown",
      "metadata": {
        "id": "3I-JNNnd3BDx"
      },
      "source": [
        "Se obtiene un pico entre 90 y 100 (GeV), lo cual es bastante acertado para el valor medido actualmente de la masa invariante del bosón Z en 91.2 GeV, aunque sólo hayamos tenido 20,000 eventos."
      ]
    }
  ]
}