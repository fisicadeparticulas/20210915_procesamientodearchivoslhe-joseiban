{
  "nbformat": 4,
  "nbformat_minor": 0,
  "metadata": {
    "colab": {
      "name": "Masa invariante Z.ipynb",
      "provenance": [],
      "mount_file_id": "1UVOaurFs0LsY5bEoocdXE2KkyPRFc5cV",
      "authorship_tag": "ABX9TyOthfd8WcxecDhCDa5zLaLk",
      "include_colab_link": true
    },
    "kernelspec": {
      "name": "python3",
      "display_name": "Python 3"
    },
    "language_info": {
      "name": "python"
    }
  },
  "cells": [
    {
      "cell_type": "markdown",
      "metadata": {
        "id": "view-in-github",
        "colab_type": "text"
      },
      "source": [
        "<a href=\"https://colab.research.google.com/github/fisicadeparticulas/20210915_procesamientodearchivoslhe-joseiban/blob/main/Masa_invariante_Z.ipynb\" target=\"_parent\"><img src=\"https://colab.research.google.com/assets/colab-badge.svg\" alt=\"Open In Colab\"/></a>"
      ]
    },
    {
      "cell_type": "markdown",
      "metadata": {
        "id": "P6pW4X18I8Wu"
      },
      "source": [
        "# **MASA INVARIANTE DEL BOSÓN Z**"
      ]
    },
    {
      "cell_type": "markdown",
      "metadata": {
        "id": "V-svETebJWwF"
      },
      "source": [
        "## **Cargamos nuestro archivo de eventos:**"
      ]
    },
    {
      "cell_type": "code",
      "metadata": {
        "colab": {
          "base_uri": "https://localhost:8080/",
          "height": 204
        },
        "id": "oTgXZHhs5iui",
        "outputId": "373bc10b-8435-4c37-caca-2ae3f005d70f"
      },
      "source": [
        "import pandas as pd\n",
        "import numpy as np\n",
        "import matplotlib.pyplot as plt\n",
        "from scipy.stats import norm\n",
        "#by:joseiban\n",
        "events=pd.read_csv('/content/drive/MyDrive/Masa invariante Z/Eventos_pxpypzE.csv')\n",
        "events.head()"
      ],
      "execution_count": 19,
      "outputs": [
        {
          "output_type": "execute_result",
          "data": {
            "text/html": [
              "<div>\n",
              "<style scoped>\n",
              "    .dataframe tbody tr th:only-of-type {\n",
              "        vertical-align: middle;\n",
              "    }\n",
              "\n",
              "    .dataframe tbody tr th {\n",
              "        vertical-align: top;\n",
              "    }\n",
              "\n",
              "    .dataframe thead th {\n",
              "        text-align: right;\n",
              "    }\n",
              "</style>\n",
              "<table border=\"1\" class=\"dataframe\">\n",
              "  <thead>\n",
              "    <tr style=\"text-align: right;\">\n",
              "      <th></th>\n",
              "      <th>px</th>\n",
              "      <th>py</th>\n",
              "      <th>pz</th>\n",
              "      <th>E</th>\n",
              "    </tr>\n",
              "  </thead>\n",
              "  <tbody>\n",
              "    <tr>\n",
              "      <th>0</th>\n",
              "      <td>-25.4</td>\n",
              "      <td>35.0</td>\n",
              "      <td>86.3</td>\n",
              "      <td>96.6</td>\n",
              "    </tr>\n",
              "    <tr>\n",
              "      <th>1</th>\n",
              "      <td>25.4</td>\n",
              "      <td>-35.0</td>\n",
              "      <td>39.9</td>\n",
              "      <td>58.8</td>\n",
              "    </tr>\n",
              "    <tr>\n",
              "      <th>2</th>\n",
              "      <td>15.6</td>\n",
              "      <td>-33.5</td>\n",
              "      <td>15.3</td>\n",
              "      <td>40.0</td>\n",
              "    </tr>\n",
              "    <tr>\n",
              "      <th>3</th>\n",
              "      <td>-15.6</td>\n",
              "      <td>33.5</td>\n",
              "      <td>102.0</td>\n",
              "      <td>109.0</td>\n",
              "    </tr>\n",
              "    <tr>\n",
              "      <th>4</th>\n",
              "      <td>-12.7</td>\n",
              "      <td>16.0</td>\n",
              "      <td>112.0</td>\n",
              "      <td>114.0</td>\n",
              "    </tr>\n",
              "  </tbody>\n",
              "</table>\n",
              "</div>"
            ],
            "text/plain": [
              "     px    py     pz      E\n",
              "0 -25.4  35.0   86.3   96.6\n",
              "1  25.4 -35.0   39.9   58.8\n",
              "2  15.6 -33.5   15.3   40.0\n",
              "3 -15.6  33.5  102.0  109.0\n",
              "4 -12.7  16.0  112.0  114.0"
            ]
          },
          "metadata": {},
          "execution_count": 19
        }
      ]
    },
    {
      "cell_type": "markdown",
      "metadata": {
        "id": "v_cRAhBQLQTW"
      },
      "source": [
        "## **Información sobre el momento en** ***x*:**"
      ]
    },
    {
      "cell_type": "markdown",
      "metadata": {
        "id": "KpRIawRZJgjW"
      },
      "source": [
        "### **Gráfica para los datos del momento en** ***x*:**"
      ]
    },
    {
      "cell_type": "code",
      "metadata": {
        "colab": {
          "base_uri": "https://localhost:8080/",
          "height": 282
        },
        "id": "D-12rDAEIzu8",
        "outputId": "41d9c529-3423-4e5d-abc0-eda7b4f7742b"
      },
      "source": [
        "import pandas as pd\n",
        "import numpy as np\n",
        "import matplotlib.pyplot as plt\n",
        "from scipy.stats import norm\n",
        "#by:joseiban\n",
        "data=np.genfromtxt(\"/content/drive/MyDrive/Masa invariante Z/Eventos_pxpypzE.csv\", delimiter=\",\" , names=[\"px\",\"py\",\"pz\",\"E\"])\n",
        "plt.plot(data['px'])"
      ],
      "execution_count": 20,
      "outputs": [
        {
          "output_type": "execute_result",
          "data": {
            "text/plain": [
              "[<matplotlib.lines.Line2D at 0x7f5157cce390>]"
            ]
          },
          "metadata": {},
          "execution_count": 20
        },
        {
          "output_type": "display_data",
          "data": {
            "image/png": "[encoded data removed]",
            "text/plain": [
              "<Figure size 432x288 with 1 Axes>"
            ]
          },
          "metadata": {
            "needs_background": "light"
          }
        }
      ]
    },
    {
      "cell_type": "markdown",
      "metadata": {
        "id": "jjsKaGfQJ4jF"
      },
      "source": [
        "### **Distribución de datos del momento en** ***x*:**"
      ]
    },
    {
      "cell_type": "code",
      "metadata": {
        "colab": {
          "base_uri": "https://localhost:8080/",
          "height": 350
        },
        "id": "egDWFFOJJ8pm",
        "outputId": "7c29af70-3bcf-4462-e1f8-0b88bd070e00"
      },
      "source": [
        "import pandas as pd\n",
        "import numpy as np\n",
        "import matplotlib.pyplot as plt\n",
        "from scipy.stats import norm\n",
        "#by:joseiban\n",
        "data=np.genfromtxt(\"/content/drive/MyDrive/Masa invariante Z/Eventos_pxpypzE.csv\", delimiter=\",\" , names=[\"px\",\"py\",\"pz\",\"E\"])\n",
        "plt.hist(data['px'])"
      ],
      "execution_count": 21,
      "outputs": [
        {
          "output_type": "execute_result",
          "data": {
            "text/plain": [
              "(array([  24., 1432., 2647., 2884., 3013., 3013., 2884., 2647., 1432.,\n",
              "          24.]),\n",
              " array([-62.1 , -49.68, -37.26, -24.84, -12.42,   0.  ,  12.42,  24.84,\n",
              "         37.26,  49.68,  62.1 ]),\n",
              " <a list of 10 Patch objects>)"
            ]
          },
          "metadata": {},
          "execution_count": 21
        },
        {
          "output_type": "display_data",
          "data": {
            "image/png": "[encoded data removed]",
            "text/plain": [
              "<Figure size 432x288 with 1 Axes>"
            ]
          },
          "metadata": {
            "needs_background": "light"
          }
        }
      ]
    },
    {
      "cell_type": "markdown",
      "metadata": {
        "id": "q9zAGAonKUXs"
      },
      "source": [
        "## **Información sobre el momento en** ***y*:**"
      ]
    },
    {
      "cell_type": "markdown",
      "metadata": {
        "id": "L4nVRGqFKVDC"
      },
      "source": [
        "### **Gráfica para los datos del momento en** ***y*:**"
      ]
    },
    {
      "cell_type": "code",
      "metadata": {
        "colab": {
          "base_uri": "https://localhost:8080/",
          "height": 282
        },
        "id": "joYoPyi7KVDD",
        "outputId": "cd7a6933-772c-4487-dcc9-043ffd56fb88"
      },
      "source": [
        "import pandas as pd\n",
        "import numpy as np\n",
        "import matplotlib.pyplot as plt\n",
        "from scipy.stats import norm\n",
        "#by:joseiban\n",
        "data=np.genfromtxt(\"/content/drive/MyDrive/Masa invariante Z/Eventos_pxpypzE.csv\", delimiter=\",\" , names=[\"px\",\"py\",\"pz\",\"E\"])\n",
        "plt.plot(data['py'])"
      ],
      "execution_count": 22,
      "outputs": [
        {
          "output_type": "execute_result",
          "data": {
            "text/plain": [
              "[<matplotlib.lines.Line2D at 0x7f5157624910>]"
            ]
          },
          "metadata": {},
          "execution_count": 22
        },
        {
          "output_type": "display_data",
          "data": {
            "image/png": "[encoded data removed]",
            "text/plain": [
              "<Figure size 432x288 with 1 Axes>"
            ]
          },
          "metadata": {
            "needs_background": "light"
          }
        }
      ]
    },
    {
      "cell_type": "markdown",
      "metadata": {
        "id": "SNAZBViNKVDE"
      },
      "source": [
        "### **Distribución de datos del momento en** ***y*:**"
      ]
    },
    {
      "cell_type": "code",
      "metadata": {
        "colab": {
          "base_uri": "https://localhost:8080/",
          "height": 350
        },
        "id": "gPOfplp_KVDE",
        "outputId": "fc322b1a-a6dc-4c97-ba92-3cf231de5152"
      },
      "source": [
        "import pandas as pd\n",
        "import numpy as np\n",
        "import matplotlib.pyplot as plt\n",
        "from scipy.stats import norm\n",
        "#by:joseiban\n",
        "data=np.genfromtxt(\"/content/drive/MyDrive/Masa invariante Z/Eventos_pxpypzE.csv\", delimiter=\",\" , names=[\"px\",\"py\",\"pz\",\"E\"])\n",
        "plt.hist(data['py'])"
      ],
      "execution_count": 23,
      "outputs": [
        {
          "output_type": "execute_result",
          "data": {
            "text/plain": [
              "(array([  17., 1584., 2573., 2849., 2977., 2977., 2849., 2573., 1584.,\n",
              "          17.]),\n",
              " array([-60.9 , -48.72, -36.54, -24.36, -12.18,   0.  ,  12.18,  24.36,\n",
              "         36.54,  48.72,  60.9 ]),\n",
              " <a list of 10 Patch objects>)"
            ]
          },
          "metadata": {},
          "execution_count": 23
        },
        {
          "output_type": "display_data",
          "data": {
            "image/png": "[encoded data removed]",
            "text/plain": [
              "<Figure size 432x288 with 1 Axes>"
            ]
          },
          "metadata": {
            "needs_background": "light"
          }
        }
      ]
    },
    {
      "cell_type": "markdown",
      "metadata": {
        "id": "A30LPa4LMMx2"
      },
      "source": [
        "## **Información sobre el momento en** ***z*:**"
      ]
    },
    {
      "cell_type": "markdown",
      "metadata": {
        "id": "FyTa_41MKt39"
      },
      "source": [
        "### **Gráfica para los datos del momento en** ***z*:**"
      ]
    },
    {
      "cell_type": "code",
      "metadata": {
        "colab": {
          "base_uri": "https://localhost:8080/",
          "height": 282
        },
        "id": "f8Hszy3mKt3-",
        "outputId": "55316bf0-a8e0-4307-d9d9-6e9598ff556f"
      },
      "source": [
        "import pandas as pd\n",
        "import numpy as np\n",
        "import matplotlib.pyplot as plt\n",
        "from scipy.stats import norm\n",
        "#by:joseiban\n",
        "data=np.genfromtxt(\"/content/drive/MyDrive/Masa invariante Z/Eventos_pxpypzE.csv\", delimiter=\",\" , names=[\"px\",\"py\",\"pz\",\"E\"])\n",
        "plt.plot(data['pz'])"
      ],
      "execution_count": 24,
      "outputs": [
        {
          "output_type": "execute_result",
          "data": {
            "text/plain": [
              "[<matplotlib.lines.Line2D at 0x7f5157719410>]"
            ]
          },
          "metadata": {},
          "execution_count": 24
        },
        {
          "output_type": "display_data",
          "data": {
            "image/png": "[encoded data removed]",
            "text/plain": [
              "<Figure size 432x288 with 1 Axes>"
            ]
          },
          "metadata": {
            "needs_background": "light"
          }
        }
      ]
    },
    {
      "cell_type": "markdown",
      "metadata": {
        "id": "Wvp2lUXBKt3_"
      },
      "source": [
        "### **Distribución de datos del momento en** ***z*:**"
      ]
    },
    {
      "cell_type": "code",
      "metadata": {
        "colab": {
          "base_uri": "https://localhost:8080/",
          "height": 350
        },
        "id": "V-p2gkVSKt3_",
        "outputId": "a3ef529a-2741-4c22-df36-fac32a7692b8"
      },
      "source": [
        "import pandas as pd\n",
        "import numpy as np\n",
        "import matplotlib.pyplot as plt\n",
        "from scipy.stats import norm\n",
        "#by:joseiban\n",
        "data=np.genfromtxt(\"/content/drive/MyDrive/Masa invariante Z/Eventos_pxpypzE.csv\", delimiter=\",\" , names=[\"px\",\"py\",\"pz\",\"E\"])\n",
        "plt.hist(data['pz'])"
      ],
      "execution_count": 25,
      "outputs": [
        {
          "output_type": "execute_result",
          "data": {
            "text/plain": [
              "(array([4.0000e+00, 2.6000e+01, 1.2300e+02, 5.0800e+02, 3.8270e+03,\n",
              "        1.4525e+04, 7.7900e+02, 1.7300e+02, 2.8000e+01, 7.0000e+00]),\n",
              " array([-4980., -4011., -3042., -2073., -1104.,  -135.,   834.,  1803.,\n",
              "         2772.,  3741.,  4710.]),\n",
              " <a list of 10 Patch objects>)"
            ]
          },
          "metadata": {},
          "execution_count": 25
        },
        {
          "output_type": "display_data",
          "data": {
            "image/png": "[encoded data removed]",
            "text/plain": [
              "<Figure size 432x288 with 1 Axes>"
            ]
          },
          "metadata": {
            "needs_background": "light"
          }
        }
      ]
    },
    {
      "cell_type": "markdown",
      "metadata": {
        "id": "OCNDNPAsOnQt"
      },
      "source": [
        "## **Cálculo del momento total** ***p*:**"
      ]
    },
    {
      "cell_type": "markdown",
      "metadata": {
        "id": "_yVRNMrLPeDm"
      },
      "source": [
        "### **Gráfica para los datos del momento total** ***p*:**"
      ]
    },
    {
      "cell_type": "code",
      "metadata": {
        "id": "QVGIgt_wO6O_",
        "colab": {
          "base_uri": "https://localhost:8080/",
          "height": 282
        },
        "outputId": "6c53e4f3-29fb-483b-b0db-2b78e0951992"
      },
      "source": [
        "import pandas as pd\n",
        "import numpy as np\n",
        "import matplotlib.pyplot as plt\n",
        "from scipy.stats import norm\n",
        "#by:joseiban\n",
        "data=np.genfromtxt(\"/content/drive/MyDrive/Masa invariante Z/Eventos_pxpypzE.csv\", delimiter=\",\" , names=[\"px\",\"py\",\"pz\",\"E\"])\n",
        "plt.plot(np.sqrt(data['px']*data['px']+data['py']*data['py']+data['pz']*data['pz']))"
      ],
      "execution_count": 26,
      "outputs": [
        {
          "output_type": "execute_result",
          "data": {
            "text/plain": [
              "[<matplotlib.lines.Line2D at 0x7f5156f48210>]"
            ]
          },
          "metadata": {},
          "execution_count": 26
        },
        {
          "output_type": "display_data",
          "data": {
            "image/png": "[encoded data removed]",
            "text/plain": [
              "<Figure size 432x288 with 1 Axes>"
            ]
          },
          "metadata": {
            "needs_background": "light"
          }
        }
      ]
    },
    {
      "cell_type": "markdown",
      "metadata": {
        "id": "ax6KOftSPj9F"
      },
      "source": [
        "### **Distribución de datos del momento total** ***p*:**"
      ]
    },
    {
      "cell_type": "code",
      "metadata": {
        "colab": {
          "base_uri": "https://localhost:8080/",
          "height": 367
        },
        "id": "jaItTnVGPjl4",
        "outputId": "adbe5fb4-508c-49be-9666-52685f9d99c1"
      },
      "source": [
        "import pandas as pd\n",
        "import numpy as np\n",
        "import matplotlib.pyplot as plt\n",
        "from scipy.stats import norm\n",
        "#by:joseiban\n",
        "data=np.genfromtxt(\"/content/drive/MyDrive/Masa invariante Z/Eventos_pxpypzE.csv\", delimiter=\",\" , names=[\"px\",\"py\",\"pz\",\"E\"])\n",
        "plt.hist(np.sqrt(data['px']*data['px']+data['py']*data['py']+data['pz']*data['pz']))"
      ],
      "execution_count": 27,
      "outputs": [
        {
          "output_type": "execute_result",
          "data": {
            "text/plain": [
              "(array([1.6382e+04, 2.0970e+03, 8.0100e+02, 4.0100e+02, 1.8100e+02,\n",
              "        7.9000e+01, 3.4000e+01, 1.7000e+01, 6.0000e+00, 2.0000e+00]),\n",
              " array([1.97779701e+00, 4.99783257e+02, 9.97588717e+02, 1.49539418e+03,\n",
              "        1.99319964e+03, 2.49100510e+03, 2.98881056e+03, 3.48661602e+03,\n",
              "        3.98442148e+03, 4.48222694e+03, 4.98003240e+03]),\n",
              " <a list of 10 Patch objects>)"
            ]
          },
          "metadata": {},
          "execution_count": 27
        },
        {
          "output_type": "display_data",
          "data": {
            "image/png": "[encoded data removed]",
            "text/plain": [
              "<Figure size 432x288 with 1 Axes>"
            ]
          },
          "metadata": {
            "needs_background": "light"
          }
        }
      ]
    },
    {
      "cell_type": "markdown",
      "metadata": {
        "id": "qKpz38KOjSJG"
      },
      "source": [
        "## **Gráfica de la masa invariante de la suma de los cuadrivetores de dos muones:**"
      ]
    },
    {
      "cell_type": "markdown",
      "metadata": {
        "id": "fUz4Wgqi9Pdj"
      },
      "source": [
        "### **Tomando en cuenta la energía:**"
      ]
    },
    {
      "cell_type": "code",
      "metadata": {
        "colab": {
          "base_uri": "https://localhost:8080/",
          "height": 316
        },
        "id": "zmNtj0FOjioi",
        "outputId": "49a86e7f-8d6b-4118-bb01-e40ebecdafc6"
      },
      "source": [
        "import pandas as pd\n",
        "import numpy as np\n",
        "import matplotlib.pyplot as plt\n",
        "from scipy.stats import norm\n",
        "#by:joseiban\n",
        "data=np.genfromtxt(\"/content/drive/MyDrive/Masa invariante Z/2 Muon.csv\", delimiter=\",\" , names=[\"px1\",\"py1\",\"pz1\",\"E1\",\"px2\",\"py2\",\"pz2\",\"E2\"])\n",
        "plt.plot((np.sqrt((data['E1']*data['E1'])-(data['px1']*data['px1']+data['py1']*data['py1']+data['pz1']*data['pz1'])))+(np.sqrt((data['E2']*data['E2'])-(data['px2']*data['px2']+data['py2']*data['py2']+data['pz2']*data['pz2']))))"
      ],
      "execution_count": 28,
      "outputs": [
        {
          "output_type": "stream",
          "name": "stderr",
          "text": [
            "/usr/local/lib/python3.7/dist-packages/ipykernel_launcher.py:7: RuntimeWarning: invalid value encountered in sqrt\n",
            "  import sys\n"
          ]
        },
        {
          "output_type": "execute_result",
          "data": {
            "text/plain": [
              "[<matplotlib.lines.Line2D at 0x7f5156e62450>]"
            ]
          },
          "metadata": {},
          "execution_count": 28
        },
        {
          "output_type": "display_data",
          "data": {
            "image/png": "[encoded data removed]",
            "text/plain": [
              "<Figure size 432x288 with 1 Axes>"
            ]
          },
          "metadata": {
            "needs_background": "light"
          }
        }
      ]
    },
    {
      "cell_type": "code",
      "metadata": {
        "colab": {
          "base_uri": "https://localhost:8080/",
          "height": 401
        },
        "id": "DSZSzghA9b7T",
        "outputId": "bc550849-c996-45a9-f562-6f6c880982a0"
      },
      "source": [
        "import pandas as pd\n",
        "import numpy as np\n",
        "import matplotlib.pyplot as plt\n",
        "from scipy.stats import norm\n",
        "#by:joseiban\n",
        "data=np.genfromtxt(\"/content/drive/MyDrive/Masa invariante Z/2 Muon.csv\", delimiter=\",\" , names=[\"px1\",\"py1\",\"pz1\",\"E1\",\"px2\",\"py2\",\"pz2\",\"E2\"])\n",
        "plt.hist((np.sqrt((data['E1']*data['E1'])-(data['px1']*data['px1']+data['py1']*data['py1']+data['pz1']*data['pz1'])))+(np.sqrt((data['E2']*data['E2'])-(data['px2']*data['px2']+data['py2']*data['py2']+data['pz2']*data['pz2']))))"
      ],
      "execution_count": 29,
      "outputs": [
        {
          "output_type": "stream",
          "name": "stderr",
          "text": [
            "/usr/local/lib/python3.7/dist-packages/ipykernel_launcher.py:7: RuntimeWarning: invalid value encountered in sqrt\n",
            "  import sys\n"
          ]
        },
        {
          "output_type": "execute_result",
          "data": {
            "text/plain": [
              "(array([1.887e+03, 2.790e+02, 7.000e+00, 0.000e+00, 0.000e+00, 1.600e+01,\n",
              "        7.000e+00, 1.000e+00, 2.000e+00, 1.000e+00]),\n",
              " array([  0.34641016,  28.7996785 ,  57.25294684,  85.70621518,\n",
              "        114.15948352, 142.61275186, 171.0660202 , 199.51928854,\n",
              "        227.97255688, 256.42582522, 284.87909356]),\n",
              " <a list of 10 Patch objects>)"
            ]
          },
          "metadata": {},
          "execution_count": 29
        },
        {
          "output_type": "display_data",
          "data": {
            "image/png": "[encoded data removed]",
            "text/plain": [
              "<Figure size 432x288 with 1 Axes>"
            ]
          },
          "metadata": {
            "needs_background": "light"
          }
        }
      ]
    },
    {
      "cell_type": "markdown",
      "metadata": {
        "id": "isi_Cw3L9hji"
      },
      "source": [
        "**Nos marca el error \"RuntimeWarning: invalid value encountered in sqrt\", puede deberse a que el programa tiene dificultad para encontrar la raíz principal de la operación o porque el resultado de la raíz es un número imaginario.**"
      ]
    },
    {
      "cell_type": "markdown",
      "metadata": {
        "id": "vovC0qYx93JC"
      },
      "source": [
        "### **Sin tomar a la energía:**"
      ]
    },
    {
      "cell_type": "code",
      "metadata": {
        "colab": {
          "base_uri": "https://localhost:8080/",
          "height": 282
        },
        "id": "hOByh_ZC-AmL",
        "outputId": "d6d354fd-7c8e-42cc-fa66-c888c7c52c5a"
      },
      "source": [
        "import pandas as pd\n",
        "import numpy as np\n",
        "import matplotlib.pyplot as plt\n",
        "from scipy.stats import norm\n",
        "#by:joseiban\n",
        "data=np.genfromtxt(\"/content/drive/MyDrive/Masa invariante Z/2 Muon.csv\", delimiter=\",\" , names=[\"px1\",\"py1\",\"pz1\",\"E1\",\"px2\",\"py2\",\"pz2\",\"E2\"])\n",
        "plt.plot((np.sqrt((data['px1']*data['px1']+data['py1']*data['py1']+data['pz1']*data['pz1'])))+(np.sqrt((data['px2']*data['px2']+data['py2']*data['py2']+data['pz2']*data['pz2']))))"
      ],
      "execution_count": 30,
      "outputs": [
        {
          "output_type": "execute_result",
          "data": {
            "text/plain": [
              "[<matplotlib.lines.Line2D at 0x7f5158378890>]"
            ]
          },
          "metadata": {},
          "execution_count": 30
        },
        {
          "output_type": "display_data",
          "data": {
            "image/png": "[encoded data removed]",
            "text/plain": [
              "<Figure size 432x288 with 1 Axes>"
            ]
          },
          "metadata": {
            "needs_background": "light"
          }
        }
      ]
    },
    {
      "cell_type": "code",
      "metadata": {
        "colab": {
          "base_uri": "https://localhost:8080/",
          "height": 367
        },
        "id": "fZvgp4_K-Niu",
        "outputId": "8cd43911-d4db-44e0-faec-c70cd7406995"
      },
      "source": [
        "import pandas as pd\n",
        "import numpy as np\n",
        "import matplotlib.pyplot as plt\n",
        "from scipy.stats import norm\n",
        "#by:joseiban\n",
        "data=np.genfromtxt(\"/content/drive/MyDrive/Masa invariante Z/2 Muon.csv\", delimiter=\",\" , names=[\"px1\",\"py1\",\"pz1\",\"E1\",\"px2\",\"py2\",\"pz2\",\"E2\"])\n",
        "plt.hist((np.sqrt((data['px1']*data['px1']+data['py1']*data['py1']+data['pz1']*data['pz1'])))+(np.sqrt((data['px2']*data['px2']+data['py2']*data['py2']+data['pz2']*data['pz2']))))"
      ],
      "execution_count": 31,
      "outputs": [
        {
          "output_type": "execute_result",
          "data": {
            "text/plain": [
              "(array([6.811e+03, 1.565e+03, 7.610e+02, 4.390e+02, 2.360e+02, 1.060e+02,\n",
              "        3.800e+01, 3.100e+01, 1.100e+01, 2.000e+00]),\n",
              " array([  54.78824239,  612.38263944, 1169.97703648, 1727.57143353,\n",
              "        2285.16583057, 2842.76022762, 3400.35462467, 3957.94902171,\n",
              "        4515.54341876, 5073.1378158 , 5630.73221285]),\n",
              " <a list of 10 Patch objects>)"
            ]
          },
          "metadata": {},
          "execution_count": 31
        },
        {
          "output_type": "display_data",
          "data": {
            "image/png": "[encoded data removed]",
            "text/plain": [
              "<Figure size 432x288 with 1 Axes>"
            ]
          },
          "metadata": {
            "needs_background": "light"
          }
        }
      ]
    }
  ]
}